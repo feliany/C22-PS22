{
  "cells": [
    {
      "cell_type": "code",
      "execution_count": null,
      "metadata": {
        "id": "5qLF6YvBaIK0"
      },
      "outputs": [],
      "source": [
        "import tensorflow as tf\n",
        "import matplotlib.pyplot as plt\n",
        "from tensorflow.keras.preprocessing.image import ImageDataGenerator, array_to_img, img_to_array, load_img\n",
        "import os\n",
        "from tensorflow.keras import layers\n",
        "from tensorflow.keras import Model\n",
        "from tensorflow.keras.optimizers import Adam\n",
        "import tensorflow_hub as hub"
      ]
    },
    {
      "cell_type": "code",
      "execution_count": null,
      "metadata": {
        "colab": {
          "base_uri": "https://localhost:8080/"
        },
        "id": "Z5tYLd2JOITl",
        "outputId": "3e68af10-d7bb-40c4-eb84-c655983b063d"
      },
      "outputs": [
        {
          "output_type": "stream",
          "name": "stdout",
          "text": [
            "Mounted at /content/gdrive\n"
          ]
        }
      ],
      "source": [
        "from google.colab import drive\n",
        "\n",
        "drive.mount('/content/gdrive')\n",
        "os.chdir('/content/gdrive/My Drive/Capstone-Dataset')\n",
        "root_path = '/content/gdrive/My Drive/Capstone-Dataset/'"
      ]
    },
    {
      "cell_type": "code",
      "source": [
        "train_dir = os.path.join(root_path, 'train')\n",
        "validation_dir = os.path.join(root_path, 'validation')"
      ],
      "metadata": {
        "id": "as5uFsFZFrPx"
      },
      "execution_count": null,
      "outputs": []
    },
    {
      "cell_type": "code",
      "execution_count": null,
      "metadata": {
        "colab": {
          "base_uri": "https://localhost:8080/"
        },
        "id": "N8RD-TyYiQh-",
        "outputId": "f08fbff6-c109-451a-ae36-44e0d4e9011a"
      },
      "outputs": [
        {
          "output_type": "stream",
          "name": "stdout",
          "text": [
            "Found 2115 images belonging to 7 classes.\n",
            "Found 208 images belonging to 7 classes.\n"
          ]
        }
      ],
      "source": [
        "from tensorflow.keras.preprocessing.image import ImageDataGenerator\n",
        "\n",
        "train_datagen = ImageDataGenerator(rescale = 1/255,\n",
        "                                   rotation_range=45,\n",
        "                                   width_shift_range=0.2,\n",
        "                                   height_shift_range=0.2,\n",
        "                                   shear_range=0.2,\n",
        "                                   zoom_range=0.2,\n",
        "                                   horizontal_flip=True,\n",
        "                                   fill_mode='nearest')\n",
        "\n",
        "validation_datagen  = ImageDataGenerator( rescale = 1.0/255. )\n",
        "\n",
        "train_generator = train_datagen.flow_from_directory(train_dir,\n",
        "                                                    shuffle=True,\n",
        "                                                    batch_size=20,\n",
        "                                                    class_mode='categorical',\n",
        "                                                    color_mode='rgb',\n",
        "                                                    target_size=(150, 150))     \n",
        "\n",
        "validation_generator =  validation_datagen.flow_from_directory(validation_dir,\n",
        "                                                               shuffle=True,\n",
        "                                                               batch_size=20,\n",
        "                                                               color_mode='rgb',\n",
        "                                                               class_mode  = 'categorical',\n",
        "                                                               target_size = (150, 150))"
      ]
    },
    {
      "cell_type": "code",
      "execution_count": null,
      "metadata": {
        "colab": {
          "base_uri": "https://localhost:8080/"
        },
        "id": "B3Isg5Kxi0uW",
        "outputId": "c78b4f69-5592-4ec8-eb42-dc03a44dd41d"
      },
      "outputs": [
        {
          "output_type": "stream",
          "name": "stdout",
          "text": [
            "--2022-05-27 02:20:24--  https://storage.googleapis.com/mledu-datasets/inception_v3_weights_tf_dim_ordering_tf_kernels_notop.h5\n",
            "Resolving storage.googleapis.com (storage.googleapis.com)... 172.217.218.128, 142.251.18.128, 142.250.145.128, ...\n",
            "Connecting to storage.googleapis.com (storage.googleapis.com)|172.217.218.128|:443... connected.\n",
            "HTTP request sent, awaiting response... 200 OK\n",
            "Length: 87910968 (84M) [application/x-hdf]\n",
            "Saving to: ‘/tmp/inception_v3_weights_tf_dim_ordering_tf_kernels_notop.h5’\n",
            "\n",
            "/tmp/inception_v3_w 100%[===================>]  83.84M  41.0MB/s    in 2.0s    \n",
            "\n",
            "2022-05-27 02:20:26 (41.0 MB/s) - ‘/tmp/inception_v3_weights_tf_dim_ordering_tf_kernels_notop.h5’ saved [87910968/87910968]\n",
            "\n"
          ]
        }
      ],
      "source": [
        "# Download the inception v3 weights\n",
        "!wget --no-check-certificate \\\n",
        "    https://storage.googleapis.com/mledu-datasets/inception_v3_weights_tf_dim_ordering_tf_kernels_notop.h5 \\\n",
        "    -O /tmp/inception_v3_weights_tf_dim_ordering_tf_kernels_notop.h5"
      ]
    },
    {
      "cell_type": "code",
      "execution_count": null,
      "metadata": {
        "id": "u89s2Illi7DW"
      },
      "outputs": [],
      "source": [
        "# Import the inception model  \n",
        "from tensorflow.keras.applications.inception_v3 import InceptionV3\n",
        "\n",
        "# Create an instance of the inception model from the local pre-trained weights\n",
        "local_weights_file = '/tmp/inception_v3_weights_tf_dim_ordering_tf_kernels_notop.h5'"
      ]
    },
    {
      "cell_type": "code",
      "execution_count": null,
      "metadata": {
        "id": "oLqtRRID4nuv"
      },
      "outputs": [],
      "source": [
        "def create_pre_trained_model(local_weights_file):\n",
        "  pre_trained_model = InceptionV3(input_shape = (150, 150, 3),\n",
        "                                  include_top = False, \n",
        "                                  weights = None) \n",
        "\n",
        "  pre_trained_model.load_weights(local_weights_file)\n",
        "\n",
        "  for layer in pre_trained_model.layers:\n",
        "    layer.trainable = False\n",
        "\n",
        "  return pre_trained_model"
      ]
    },
    {
      "cell_type": "code",
      "source": [
        "def create_pre_trained_model(local_weights_file):\n",
        "  pre_trained_model = InceptionV3(input_shape = (150, 150, 3),\n",
        "                                  include_top = False, \n",
        "                                  weights = None) \n",
        "\n",
        "  pre_trained_model.load_weights(local_weights_file)\n",
        "\n",
        "  for layer in pre_trained_model.layers:\n",
        "    layer.trainable = False\n",
        "\n",
        "  return pre_trained_model"
      ],
      "metadata": {
        "id": "5Pa-8bzBF6vY"
      },
      "execution_count": null,
      "outputs": []
    },
    {
      "cell_type": "code",
      "source": [
        "pre_trained_model = create_pre_trained_model(local_weights_file)\n",
        "\n",
        "# Print the model summary\n",
        "pre_trained_model.summary()"
      ],
      "metadata": {
        "id": "SwG5XH3wGMli"
      },
      "execution_count": null,
      "outputs": []
    },
    {
      "cell_type": "code",
      "source": [
        "def output_of_last_layer(pre_trained_model):\n",
        "  last_desired_layer = pre_trained_model.get_layer('mixed7')\n",
        "  print('last layer output shape: ', last_desired_layer.output_shape)\n",
        "  last_output = last_desired_layer.output\n",
        "  print('last layer output: ', last_output)\n",
        "\n",
        "  return last_output"
      ],
      "metadata": {
        "id": "k4jqcYaZGZLP"
      },
      "execution_count": null,
      "outputs": []
    },
    {
      "cell_type": "code",
      "source": [
        "last_output = output_of_last_layer(pre_trained_model)"
      ],
      "metadata": {
        "colab": {
          "base_uri": "https://localhost:8080/"
        },
        "id": "icLEI4A4GbLI",
        "outputId": "11ec229f-e699-4bee-b5f7-524a23ade70e"
      },
      "execution_count": null,
      "outputs": [
        {
          "output_type": "stream",
          "name": "stdout",
          "text": [
            "last layer output shape:  (None, 7, 7, 768)\n",
            "last layer output:  KerasTensor(type_spec=TensorSpec(shape=(None, 7, 7, 768), dtype=tf.float32, name=None), name='mixed7/concat:0', description=\"created by layer 'mixed7'\")\n"
          ]
        }
      ]
    },
    {
      "cell_type": "code",
      "execution_count": null,
      "metadata": {
        "id": "zzSsB1w1Fr1L"
      },
      "outputs": [],
      "source": [
        "def create_final_model(pre_trained_model, last_output):\n",
        "  x = layers.Flatten()(last_output)\n",
        "\n",
        "  x = layers.Dense(1024, activation='relu')(x)\n",
        "  x = layers.Dropout(0.2)(x)\n",
        "  x = layers.Dense(7, activation='softmax')(x)       \n",
        "\n",
        "  model = Model(inputs=pre_trained_model.input, outputs=x)\n",
        "\n",
        "  model.compile(optimizer = 'adam', \n",
        "                loss = 'categorical_crossentropy',\n",
        "                metrics = ['accuracy'])\n",
        "  \n",
        "  return model"
      ]
    },
    {
      "cell_type": "code",
      "execution_count": null,
      "metadata": {
        "colab": {
          "base_uri": "https://localhost:8080/"
        },
        "id": "zRDHQG9MG188",
        "outputId": "b22cf205-9bb2-4e48-c9ef-05c72a8276c3"
      },
      "outputs": [
        {
          "output_type": "stream",
          "name": "stdout",
          "text": [
            "There are 47,518,631 total parameters in this model.\n",
            "There are 38,543,367 trainable parameters in this model.\n"
          ]
        }
      ],
      "source": [
        "# Save your model in a variable\n",
        "model = create_final_model(pre_trained_model, last_output)\n",
        "\n",
        "# Inspect parameters\n",
        "total_params = model.count_params()\n",
        "num_trainable_params = sum([w.shape.num_elements() for w in model.trainable_weights])\n",
        "\n",
        "print(f\"There are {total_params:,} total parameters in this model.\")\n",
        "print(f\"There are {num_trainable_params:,} trainable parameters in this model.\")"
      ]
    },
    {
      "cell_type": "code",
      "execution_count": null,
      "metadata": {
        "colab": {
          "base_uri": "https://localhost:8080/"
        },
        "id": "Uthb5DxEJfeE",
        "outputId": "2e3fe379-618e-4c9f-a92d-0f86d09e793c"
      },
      "outputs": [
        {
          "output_type": "stream",
          "name": "stdout",
          "text": [
            "Epoch 1/50\n",
            "105/105 - 1167s - loss: 2.2407 - accuracy: 0.4220 - val_loss: 1.1654 - val_accuracy: 0.5900 - 1167s/epoch - 11s/step\n",
            "Epoch 2/50\n",
            "105/105 - 124s - loss: 1.2600 - accuracy: 0.5246 - val_loss: 1.0144 - val_accuracy: 0.6200 - 124s/epoch - 1s/step\n",
            "Epoch 3/50\n",
            "105/105 - 125s - loss: 1.1559 - accuracy: 0.5690 - val_loss: 1.0260 - val_accuracy: 0.6350 - 125s/epoch - 1s/step\n",
            "Epoch 4/50\n",
            "105/105 - 123s - loss: 1.1444 - accuracy: 0.5709 - val_loss: 0.9104 - val_accuracy: 0.7000 - 123s/epoch - 1s/step\n",
            "Epoch 5/50\n",
            "105/105 - 120s - loss: 1.0540 - accuracy: 0.6076 - val_loss: 0.9032 - val_accuracy: 0.7100 - 120s/epoch - 1s/step\n",
            "Epoch 6/50\n",
            "105/105 - 121s - loss: 1.0496 - accuracy: 0.6019 - val_loss: 0.9027 - val_accuracy: 0.6800 - 121s/epoch - 1s/step\n",
            "Epoch 7/50\n",
            "105/105 - 120s - loss: 1.0129 - accuracy: 0.6267 - val_loss: 0.8612 - val_accuracy: 0.6900 - 120s/epoch - 1s/step\n",
            "Epoch 8/50\n",
            "105/105 - 121s - loss: 0.9636 - accuracy: 0.6401 - val_loss: 0.8466 - val_accuracy: 0.7350 - 121s/epoch - 1s/step\n",
            "Epoch 9/50\n",
            "105/105 - 122s - loss: 0.9722 - accuracy: 0.6377 - val_loss: 0.8336 - val_accuracy: 0.7100 - 122s/epoch - 1s/step\n",
            "Epoch 10/50\n",
            "105/105 - 124s - loss: 0.9294 - accuracy: 0.6511 - val_loss: 0.8630 - val_accuracy: 0.7100 - 124s/epoch - 1s/step\n",
            "Epoch 11/50\n",
            "105/105 - 122s - loss: 0.9152 - accuracy: 0.6683 - val_loss: 0.8123 - val_accuracy: 0.7150 - 122s/epoch - 1s/step\n",
            "Epoch 12/50\n",
            "105/105 - 121s - loss: 0.8674 - accuracy: 0.6716 - val_loss: 0.7352 - val_accuracy: 0.7600 - 121s/epoch - 1s/step\n",
            "Epoch 13/50\n",
            "105/105 - 120s - loss: 0.8752 - accuracy: 0.6621 - val_loss: 0.8041 - val_accuracy: 0.7450 - 120s/epoch - 1s/step\n",
            "Epoch 14/50\n",
            "105/105 - 120s - loss: 0.8594 - accuracy: 0.6788 - val_loss: 0.7635 - val_accuracy: 0.7550 - 120s/epoch - 1s/step\n",
            "Epoch 15/50\n",
            "105/105 - 120s - loss: 0.8769 - accuracy: 0.6768 - val_loss: 0.7200 - val_accuracy: 0.7800 - 120s/epoch - 1s/step\n",
            "Epoch 16/50\n",
            "105/105 - 124s - loss: 0.8268 - accuracy: 0.6912 - val_loss: 0.7084 - val_accuracy: 0.7200 - 124s/epoch - 1s/step\n",
            "Epoch 17/50\n",
            "105/105 - 121s - loss: 0.8300 - accuracy: 0.6940 - val_loss: 0.6949 - val_accuracy: 0.7750 - 121s/epoch - 1s/step\n",
            "Epoch 18/50\n",
            "105/105 - 121s - loss: 0.7907 - accuracy: 0.6979 - val_loss: 0.8129 - val_accuracy: 0.7250 - 121s/epoch - 1s/step\n",
            "Epoch 19/50\n",
            "105/105 - 123s - loss: 0.7695 - accuracy: 0.7265 - val_loss: 0.7220 - val_accuracy: 0.7200 - 123s/epoch - 1s/step\n",
            "Epoch 20/50\n",
            "105/105 - 121s - loss: 0.7856 - accuracy: 0.7117 - val_loss: 0.7986 - val_accuracy: 0.7000 - 121s/epoch - 1s/step\n",
            "Epoch 21/50\n",
            "105/105 - 122s - loss: 0.7729 - accuracy: 0.7055 - val_loss: 0.7489 - val_accuracy: 0.7400 - 122s/epoch - 1s/step\n",
            "Epoch 22/50\n",
            "105/105 - 124s - loss: 0.7417 - accuracy: 0.7270 - val_loss: 0.7407 - val_accuracy: 0.7600 - 124s/epoch - 1s/step\n",
            "Epoch 23/50\n",
            "105/105 - 125s - loss: 0.7508 - accuracy: 0.7146 - val_loss: 0.8099 - val_accuracy: 0.7400 - 125s/epoch - 1s/step\n",
            "Epoch 24/50\n",
            "105/105 - 124s - loss: 0.7270 - accuracy: 0.7160 - val_loss: 0.7158 - val_accuracy: 0.7800 - 124s/epoch - 1s/step\n",
            "Epoch 25/50\n",
            "105/105 - 124s - loss: 0.7158 - accuracy: 0.7432 - val_loss: 0.6834 - val_accuracy: 0.7650 - 124s/epoch - 1s/step\n",
            "Epoch 26/50\n",
            "105/105 - 124s - loss: 0.6754 - accuracy: 0.7504 - val_loss: 0.7630 - val_accuracy: 0.7550 - 124s/epoch - 1s/step\n",
            "Epoch 27/50\n",
            "105/105 - 123s - loss: 0.7004 - accuracy: 0.7379 - val_loss: 0.7862 - val_accuracy: 0.7450 - 123s/epoch - 1s/step\n",
            "Epoch 28/50\n",
            "105/105 - 121s - loss: 0.7018 - accuracy: 0.7427 - val_loss: 0.7457 - val_accuracy: 0.7850 - 121s/epoch - 1s/step\n",
            "Epoch 29/50\n",
            "105/105 - 121s - loss: 0.6950 - accuracy: 0.7360 - val_loss: 0.7518 - val_accuracy: 0.7600 - 121s/epoch - 1s/step\n",
            "Epoch 30/50\n",
            "105/105 - 125s - loss: 0.6704 - accuracy: 0.7403 - val_loss: 0.7572 - val_accuracy: 0.7550 - 125s/epoch - 1s/step\n",
            "Epoch 31/50\n",
            "105/105 - 127s - loss: 0.7027 - accuracy: 0.7389 - val_loss: 0.7311 - val_accuracy: 0.7750 - 127s/epoch - 1s/step\n",
            "Epoch 32/50\n",
            "105/105 - 124s - loss: 0.6678 - accuracy: 0.7542 - val_loss: 0.7576 - val_accuracy: 0.7650 - 124s/epoch - 1s/step\n",
            "Epoch 33/50\n",
            "105/105 - 126s - loss: 0.6630 - accuracy: 0.7470 - val_loss: 0.8453 - val_accuracy: 0.7600 - 126s/epoch - 1s/step\n",
            "Epoch 34/50\n",
            "105/105 - 125s - loss: 0.6435 - accuracy: 0.7609 - val_loss: 0.8084 - val_accuracy: 0.7550 - 125s/epoch - 1s/step\n",
            "Epoch 35/50\n",
            "105/105 - 124s - loss: 0.6381 - accuracy: 0.7623 - val_loss: 0.7408 - val_accuracy: 0.7800 - 124s/epoch - 1s/step\n",
            "Epoch 36/50\n",
            "105/105 - 125s - loss: 0.6216 - accuracy: 0.7680 - val_loss: 0.7401 - val_accuracy: 0.7500 - 125s/epoch - 1s/step\n",
            "Epoch 37/50\n",
            "105/105 - 124s - loss: 0.6447 - accuracy: 0.7656 - val_loss: 0.7809 - val_accuracy: 0.7500 - 124s/epoch - 1s/step\n",
            "Epoch 38/50\n",
            "105/105 - 127s - loss: 0.6315 - accuracy: 0.7589 - val_loss: 0.7945 - val_accuracy: 0.7700 - 127s/epoch - 1s/step\n",
            "Epoch 39/50\n",
            "105/105 - 124s - loss: 0.5957 - accuracy: 0.7823 - val_loss: 0.8276 - val_accuracy: 0.7600 - 124s/epoch - 1s/step\n",
            "Epoch 40/50\n",
            "105/105 - 125s - loss: 0.6408 - accuracy: 0.7537 - val_loss: 0.8727 - val_accuracy: 0.7300 - 125s/epoch - 1s/step\n",
            "Epoch 41/50\n",
            "105/105 - 125s - loss: 0.6364 - accuracy: 0.7675 - val_loss: 0.7346 - val_accuracy: 0.7950 - 125s/epoch - 1s/step\n",
            "Epoch 42/50\n",
            "105/105 - 123s - loss: 0.6165 - accuracy: 0.7709 - val_loss: 0.7963 - val_accuracy: 0.7850 - 123s/epoch - 1s/step\n",
            "Epoch 43/50\n",
            "105/105 - 128s - loss: 0.6020 - accuracy: 0.7790 - val_loss: 0.7789 - val_accuracy: 0.7900 - 128s/epoch - 1s/step\n",
            "Epoch 44/50\n",
            "105/105 - 127s - loss: 0.5935 - accuracy: 0.7885 - val_loss: 0.7175 - val_accuracy: 0.7900 - 127s/epoch - 1s/step\n",
            "Epoch 45/50\n",
            "105/105 - 126s - loss: 0.5804 - accuracy: 0.7847 - val_loss: 0.7755 - val_accuracy: 0.8000 - 126s/epoch - 1s/step\n",
            "Epoch 46/50\n",
            "105/105 - 126s - loss: 0.5735 - accuracy: 0.7895 - val_loss: 0.8140 - val_accuracy: 0.7650 - 126s/epoch - 1s/step\n",
            "Epoch 47/50\n",
            "105/105 - 125s - loss: 0.5569 - accuracy: 0.8000 - val_loss: 0.8339 - val_accuracy: 0.7600 - 125s/epoch - 1s/step\n",
            "Epoch 48/50\n",
            "105/105 - 125s - loss: 0.5714 - accuracy: 0.7847 - val_loss: 0.8073 - val_accuracy: 0.8000 - 125s/epoch - 1s/step\n",
            "Epoch 49/50\n",
            "105/105 - 124s - loss: 0.5780 - accuracy: 0.7852 - val_loss: 0.8061 - val_accuracy: 0.7900 - 124s/epoch - 1s/step\n",
            "Epoch 50/50\n",
            "105/105 - 125s - loss: 0.5618 - accuracy: 0.7895 - val_loss: 0.7722 - val_accuracy: 0.7950 - 125s/epoch - 1s/step\n"
          ]
        }
      ],
      "source": [
        "history = model.fit(train_generator,\n",
        "                    validation_data = validation_generator,\n",
        "                    epochs = 50,\n",
        "                    verbose = 2,\n",
        "                    steps_per_epoch = train_generator.samples // train_generator.batch_size,\n",
        "                    validation_steps = validation_generator.samples // validation_generator.batch_size)"
      ]
    },
    {
      "cell_type": "code",
      "execution_count": null,
      "metadata": {
        "id": "ENiJNSMaYKM2",
        "colab": {
          "base_uri": "https://localhost:8080/",
          "height": 298
        },
        "outputId": "d072f370-2714-46ec-9abb-f2163d3bc14b"
      },
      "outputs": [
        {
          "output_type": "display_data",
          "data": {
            "text/plain": [
              "<Figure size 432x288 with 1 Axes>"
            ],
            "image/png": "[encoded data removed]"
          },
          "metadata": {
            "needs_background": "light"
          }
        },
        {
          "output_type": "display_data",
          "data": {
            "text/plain": [
              "<Figure size 432x288 with 0 Axes>"
            ]
          },
          "metadata": {}
        }
      ],
      "source": [
        "acc = history.history['accuracy']\n",
        "val_acc = history.history['val_accuracy']\n",
        "loss = history.history['loss']\n",
        "val_loss = history.history['val_loss']\n",
        "\n",
        "epochs = range(len(acc))\n",
        "\n",
        "plt.plot(epochs, acc, 'r', label='Training accuracy')\n",
        "plt.plot(epochs, val_acc, 'b', label='Validation accuracy')\n",
        "plt.title('Training and validation accuracy')\n",
        "plt.legend(loc=0)\n",
        "plt.figure()\n",
        "\n",
        "plt.show()"
      ]
    },
    {
      "cell_type": "code",
      "source": [
        "from google.colab import files\n",
        "from keras.preprocessing import image\n",
        "import numpy as np\n",
        "\n",
        "uploaded=files.upload()\n",
        "\n",
        "for fn in uploaded.keys():\n",
        " \n",
        "  # predicting images\n",
        "  root_path = '/content/gdrive/My Drive/Capstone-Dataset/'\n",
        "  path = root_path + fn\n",
        "  img = image.load_img(path, target_size=(150, 150))\n",
        "  \n",
        "  x=image.img_to_array(img)\n",
        "  x /= 255\n",
        "  x=np.expand_dims(x, axis=0)\n",
        "  images = np.vstack([x])\n",
        "  \n",
        "  classes = model.predict(images, batch_size=10)\n",
        "  \n",
        "  print(classes[0])\n",
        "  \n",
        "  if classes[0][0] > (classes[0][1] and classes[0][2] and classes[0][3] and classes[0][4] and classes[0][5] and classes[0][6]) :\n",
        "    print(fn + \" is alopecia_areata\")\n",
        "  elif classes[0][1] > (classes[0][0] and classes[0][2] and classes[0][3] and classes[0][4] and classes[0][5] and classes[0][6]) :\n",
        "    print(fn + \" is dandruff\")\n",
        "  elif classes[0][2] > (classes[0][1] and classes[0][0] and classes[0][3] and classes[0][4] and classes[0][5] and classes[0][6]):\n",
        "    print(fn + \" is folliculitis\")\n",
        "  elif classes[0][3] > (classes[0][1] and classes[0][2] and classes[0][0] and classes[0][4] and classes[0][5] and classes[0][6]):\n",
        "    print(fn + \" is healthy_scalp\")\n",
        "  elif classes[0][4] > (classes[0][1] and classes[0][2] and classes[0][3] and classes[0][0] and classes[0][5] and classes[0][6]):\n",
        "    print(fn + \" is psoriasis\")\n",
        "  elif classes[0][5] > (classes[0][1] and classes[0][2] and classes[0][3] and classes[0][4] and classes[0][0] and classes[0][6]):\n",
        "    print(fn + \" is seborrheic_dermatitis\")\n",
        "  elif classes[0][6] > (classes[0][1] and classes[0][2] and classes[0][3] and classes[0][4] and classes[0][5] and classes[0][0]):\n",
        "    print(fn + \" is tinea_capitis\")"
      ],
      "metadata": {
        "id": "KcUwGD_2N_cj",
        "colab": {
          "resources": {
            "http://localhost:8080/nbextensions/google.colab/files.js": {
              "data": "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",
              "ok": true,
              "headers": [
                [
                  "content-type",
                  "application/javascript"
                ]
              ],
              "status": 200,
              "status_text": ""
            }
          },
          "base_uri": "https://localhost:8080/",
          "height": 646
        },
        "outputId": "8ca2bd3b-647f-4a51-e916-cf58d6484241"
      },
      "execution_count": null,
      "outputs": [
        {
          "output_type": "display_data",
          "data": {
            "text/plain": [
              "<IPython.core.display.HTML object>"
            ],
            "text/html": [
              "\n",
              "     <input type=\"file\" id=\"files-47d7d204-5a28-4a56-b205-7aa2f9e380c9\" name=\"files[]\" multiple disabled\n",
              "        style=\"border:none\" />\n",
              "     <output id=\"result-47d7d204-5a28-4a56-b205-7aa2f9e380c9\">\n",
              "      Upload widget is only available when the cell has been executed in the\n",
              "      current browser session. Please rerun this cell to enable.\n",
              "      </output>\n",
              "      <script src=\"/nbextensions/google.colab/files.js\"></script> "
            ]
          },
          "metadata": {}
        },
        {
          "output_type": "stream",
          "name": "stdout",
          "text": [
            "Saving alo.jpg to alo (2).jpg\n",
            "Saving alo2.jpg to alo2 (2).jpg\n",
            "Saving dand.jpg to dand (3).jpg\n",
            "Saving healthy1.jpg to healthy1 (2).jpg\n",
            "Saving pso1.jpg to pso1 (3).jpg\n",
            "Saving sebo1.jpg to sebo1 (3).jpg\n",
            "Saving tinea.jpg to tinea (3).jpg\n",
            "[2.5243154e-01 8.7725924e-09 6.5520253e-06 2.8489441e-10 6.7723462e-08\n",
            " 5.2726716e-07 7.4756128e-01]\n",
            "alo.jpg is tinea_capitis\n",
            "[9.5972812e-01 1.0831106e-09 4.9440288e-08 3.3660183e-10 5.1878213e-09\n",
            " 6.5573205e-09 4.0271953e-02]\n",
            "alo2.jpg is alopecia_areata\n",
            "[3.9096067e-06 8.9265704e-01 1.1264348e-08 1.0731398e-01 1.6126181e-07\n",
            " 9.3995887e-09 2.4847144e-05]\n",
            "dand.jpg is dandruff\n",
            "[4.3406446e-05 6.7290998e-01 4.2438614e-08 3.2701445e-01 1.0135976e-06\n",
            " 2.5008356e-08 3.1069212e-05]\n",
            "healthy1.jpg is alopecia_areata\n",
            "[9.9610514e-04 1.1498448e-04 1.8199271e-02 1.0601259e-05 8.4501886e-01\n",
            " 1.3372773e-01 1.9324208e-03]\n",
            "pso1.jpg is folliculitis\n",
            "[6.4313492e-05 1.5563362e-02 6.3919961e-01 1.8179325e-04 8.1071161e-02\n",
            " 2.5863624e-01 5.2835299e-03]\n",
            "sebo1.jpg is dandruff\n",
            "[4.4839349e-02 2.0061114e-05 2.1452885e-05 1.0644166e-06 7.2198214e-05\n",
            " 7.6564938e-06 9.5503825e-01]\n",
            "tinea.jpg is tinea_capitis\n"
          ]
        }
      ]
    },
    {
      "cell_type": "code",
      "execution_count": null,
      "metadata": {
        "id": "__7Mb76wvVMs",
        "colab": {
          "base_uri": "https://localhost:8080/"
        },
        "outputId": "9ece5294-7515-4412-c841-531ed46c8878"
      },
      "outputs": [
        {
          "output_type": "stream",
          "name": "stdout",
          "text": [
            "INFO:tensorflow:Assets written to: /content/gdrive/My Drive/Capstone-Dataset//model/Categorical-adam_default-Capstone-Project-C22PS22/assets\n"
          ]
        }
      ],
      "source": [
        "model.save(root_path + \"/model/{}\".format('Categorical-adam_default-Capstone-Project-C22PS22'))"
      ]
    },
    {
      "cell_type": "code",
      "source": [
        "import pathlib\n",
        "\n",
        "export_dir = 'saved_model/1'\n",
        "tf.saved_model.save(model, export_dir)\n",
        "\n",
        "converter = tf.lite.TFLiteConverter.from_saved_model(export_dir)\n",
        "converter.optimizations = [tf.lite.Optimize.DEFAULT]\n",
        "tflite_model = converter.convert()\n",
        "\n",
        "tflite_model_file = pathlib.Path('./model.tflite')\n",
        "tflite_model_file.write_bytes(tflite_model)"
      ],
      "metadata": {
        "id": "nQR5bid3848Y",
        "colab": {
          "base_uri": "https://localhost:8080/"
        },
        "outputId": "bc590acf-8c74-4ba0-c2a8-7c3970a87751"
      },
      "execution_count": null,
      "outputs": [
        {
          "output_type": "stream",
          "name": "stdout",
          "text": [
            "INFO:tensorflow:Assets written to: saved_model/1/assets\n"
          ]
        },
        {
          "output_type": "stream",
          "name": "stderr",
          "text": [
            "WARNING:absl:Buffer deduplication procedure will be skipped when flatbuffer library is not properly loaded\n"
          ]
        },
        {
          "output_type": "execute_result",
          "data": {
            "text/plain": [
              "47763056"
            ]
          },
          "metadata": {},
          "execution_count": 24
        }
      ]
    },
    {
      "cell_type": "code",
      "source": [
        "saved_model_path = \"./my_model.h5\"\n",
        "\n",
        "!pip install tensorflowjs\n",
        "!tensorflowjs_converter --input_format=keras {saved_model_path} ./"
      ],
      "metadata": {
        "colab": {
          "base_uri": "https://localhost:8080/",
          "height": 1000
        },
        "id": "McZf31rs9EXG",
        "outputId": "6fa339f6-9725-48fd-bb88-8f14c73b6174"
      },
      "execution_count": null,
      "outputs": [
        {
          "output_type": "stream",
          "name": "stdout",
          "text": [
            "Looking in indexes: https://pypi.org/simple, https://us-python.pkg.dev/colab-wheels/public/simple/\n",
            "Collecting tensorflowjs\n",
            "  Downloading tensorflowjs-3.18.0-py3-none-any.whl (77 kB)\n",
            "\u001b[K     |████████████████████████████████| 77 kB 3.1 MB/s \n",
            "\u001b[?25hRequirement already satisfied: six<2,>=1.12.0 in /usr/local/lib/python3.7/dist-packages (from tensorflowjs) (1.15.0)\n",
            "Requirement already satisfied: tensorflow-hub<0.13,>=0.7.0 in /usr/local/lib/python3.7/dist-packages (from tensorflowjs) (0.12.0)\n",
            "Collecting packaging~=20.9\n",
            "  Downloading packaging-20.9-py2.py3-none-any.whl (40 kB)\n",
            "\u001b[K     |████████████████████████████████| 40 kB 3.8 MB/s \n",
            "\u001b[?25hRequirement already satisfied: tensorflow<3,>=2.1.0 in /usr/local/lib/python3.7/dist-packages (from tensorflowjs) (2.8.0+zzzcolab20220506162203)\n",
            "Requirement already satisfied: pyparsing>=2.0.2 in /usr/local/lib/python3.7/dist-packages (from packaging~=20.9->tensorflowjs) (3.0.9)\n",
            "Requirement already satisfied: astunparse>=1.6.0 in /usr/local/lib/python3.7/dist-packages (from tensorflow<3,>=2.1.0->tensorflowjs) (1.6.3)\n",
            "Requirement already satisfied: setuptools in /usr/local/lib/python3.7/dist-packages (from tensorflow<3,>=2.1.0->tensorflowjs) (57.4.0)\n",
            "Requirement already satisfied: keras-preprocessing>=1.1.1 in /usr/local/lib/python3.7/dist-packages (from tensorflow<3,>=2.1.0->tensorflowjs) (1.1.2)\n",
            "Requirement already satisfied: numpy>=1.20 in /usr/local/lib/python3.7/dist-packages (from tensorflow<3,>=2.1.0->tensorflowjs) (1.21.6)\n",
            "Requirement already satisfied: flatbuffers>=1.12 in /usr/local/lib/python3.7/dist-packages (from tensorflow<3,>=2.1.0->tensorflowjs) (2.0)\n",
            "Requirement already satisfied: typing-extensions>=3.6.6 in /usr/local/lib/python3.7/dist-packages (from tensorflow<3,>=2.1.0->tensorflowjs) (4.2.0)\n",
            "Requirement already satisfied: grpcio<2.0,>=1.24.3 in /usr/local/lib/python3.7/dist-packages (from tensorflow<3,>=2.1.0->tensorflowjs) (1.46.1)\n",
            "Requirement already satisfied: gast>=0.2.1 in /usr/local/lib/python3.7/dist-packages (from tensorflow<3,>=2.1.0->tensorflowjs) (0.5.3)\n",
            "Requirement already satisfied: protobuf>=3.9.2 in /usr/local/lib/python3.7/dist-packages (from tensorflow<3,>=2.1.0->tensorflowjs) (3.17.3)\n",
            "Requirement already satisfied: h5py>=2.9.0 in /usr/local/lib/python3.7/dist-packages (from tensorflow<3,>=2.1.0->tensorflowjs) (3.1.0)\n",
            "Requirement already satisfied: tensorboard<2.9,>=2.8 in /usr/local/lib/python3.7/dist-packages (from tensorflow<3,>=2.1.0->tensorflowjs) (2.8.0)\n",
            "Requirement already satisfied: google-pasta>=0.1.1 in /usr/local/lib/python3.7/dist-packages (from tensorflow<3,>=2.1.0->tensorflowjs) (0.2.0)\n",
            "Requirement already satisfied: keras<2.9,>=2.8.0rc0 in /usr/local/lib/python3.7/dist-packages (from tensorflow<3,>=2.1.0->tensorflowjs) (2.8.0)\n",
            "Requirement already satisfied: absl-py>=0.4.0 in /usr/local/lib/python3.7/dist-packages (from tensorflow<3,>=2.1.0->tensorflowjs) (1.0.0)\n",
            "Requirement already satisfied: wrapt>=1.11.0 in /usr/local/lib/python3.7/dist-packages (from tensorflow<3,>=2.1.0->tensorflowjs) (1.14.1)\n",
            "Requirement already satisfied: libclang>=9.0.1 in /usr/local/lib/python3.7/dist-packages (from tensorflow<3,>=2.1.0->tensorflowjs) (14.0.1)\n",
            "Requirement already satisfied: termcolor>=1.1.0 in /usr/local/lib/python3.7/dist-packages (from tensorflow<3,>=2.1.0->tensorflowjs) (1.1.0)\n",
            "Requirement already satisfied: tensorflow-io-gcs-filesystem>=0.23.1 in /usr/local/lib/python3.7/dist-packages (from tensorflow<3,>=2.1.0->tensorflowjs) (0.26.0)\n",
            "Collecting tf-estimator-nightly==2.8.0.dev2021122109\n",
            "  Downloading tf_estimator_nightly-2.8.0.dev2021122109-py2.py3-none-any.whl (462 kB)\n",
            "\u001b[K     |████████████████████████████████| 462 kB 37.0 MB/s \n",
            "\u001b[?25hRequirement already satisfied: opt-einsum>=2.3.2 in /usr/local/lib/python3.7/dist-packages (from tensorflow<3,>=2.1.0->tensorflowjs) (3.3.0)\n",
            "Requirement already satisfied: wheel<1.0,>=0.23.0 in /usr/local/lib/python3.7/dist-packages (from astunparse>=1.6.0->tensorflow<3,>=2.1.0->tensorflowjs) (0.37.1)\n",
            "Requirement already satisfied: cached-property in /usr/local/lib/python3.7/dist-packages (from h5py>=2.9.0->tensorflow<3,>=2.1.0->tensorflowjs) (1.5.2)\n",
            "Requirement already satisfied: google-auth-oauthlib<0.5,>=0.4.1 in /usr/local/lib/python3.7/dist-packages (from tensorboard<2.9,>=2.8->tensorflow<3,>=2.1.0->tensorflowjs) (0.4.6)\n",
            "Requirement already satisfied: tensorboard-data-server<0.7.0,>=0.6.0 in /usr/local/lib/python3.7/dist-packages (from tensorboard<2.9,>=2.8->tensorflow<3,>=2.1.0->tensorflowjs) (0.6.1)\n",
            "Requirement already satisfied: markdown>=2.6.8 in /usr/local/lib/python3.7/dist-packages (from tensorboard<2.9,>=2.8->tensorflow<3,>=2.1.0->tensorflowjs) (3.3.7)\n",
            "Requirement already satisfied: werkzeug>=0.11.15 in /usr/local/lib/python3.7/dist-packages (from tensorboard<2.9,>=2.8->tensorflow<3,>=2.1.0->tensorflowjs) (1.0.1)\n",
            "Requirement already satisfied: tensorboard-plugin-wit>=1.6.0 in /usr/local/lib/python3.7/dist-packages (from tensorboard<2.9,>=2.8->tensorflow<3,>=2.1.0->tensorflowjs) (1.8.1)\n",
            "Requirement already satisfied: requests<3,>=2.21.0 in /usr/local/lib/python3.7/dist-packages (from tensorboard<2.9,>=2.8->tensorflow<3,>=2.1.0->tensorflowjs) (2.23.0)\n",
            "Requirement already satisfied: google-auth<3,>=1.6.3 in /usr/local/lib/python3.7/dist-packages (from tensorboard<2.9,>=2.8->tensorflow<3,>=2.1.0->tensorflowjs) (1.35.0)\n",
            "Requirement already satisfied: pyasn1-modules>=0.2.1 in /usr/local/lib/python3.7/dist-packages (from google-auth<3,>=1.6.3->tensorboard<2.9,>=2.8->tensorflow<3,>=2.1.0->tensorflowjs) (0.2.8)\n",
            "Requirement already satisfied: rsa<5,>=3.1.4 in /usr/local/lib/python3.7/dist-packages (from google-auth<3,>=1.6.3->tensorboard<2.9,>=2.8->tensorflow<3,>=2.1.0->tensorflowjs) (4.8)\n",
            "Requirement already satisfied: cachetools<5.0,>=2.0.0 in /usr/local/lib/python3.7/dist-packages (from google-auth<3,>=1.6.3->tensorboard<2.9,>=2.8->tensorflow<3,>=2.1.0->tensorflowjs) (4.2.4)\n",
            "Requirement already satisfied: requests-oauthlib>=0.7.0 in /usr/local/lib/python3.7/dist-packages (from google-auth-oauthlib<0.5,>=0.4.1->tensorboard<2.9,>=2.8->tensorflow<3,>=2.1.0->tensorflowjs) (1.3.1)\n",
            "Requirement already satisfied: importlib-metadata>=4.4 in /usr/local/lib/python3.7/dist-packages (from markdown>=2.6.8->tensorboard<2.9,>=2.8->tensorflow<3,>=2.1.0->tensorflowjs) (4.11.3)\n",
            "Requirement already satisfied: zipp>=0.5 in /usr/local/lib/python3.7/dist-packages (from importlib-metadata>=4.4->markdown>=2.6.8->tensorboard<2.9,>=2.8->tensorflow<3,>=2.1.0->tensorflowjs) (3.8.0)\n",
            "Requirement already satisfied: pyasn1<0.5.0,>=0.4.6 in /usr/local/lib/python3.7/dist-packages (from pyasn1-modules>=0.2.1->google-auth<3,>=1.6.3->tensorboard<2.9,>=2.8->tensorflow<3,>=2.1.0->tensorflowjs) (0.4.8)\n",
            "Requirement already satisfied: certifi>=2017.4.17 in /usr/local/lib/python3.7/dist-packages (from requests<3,>=2.21.0->tensorboard<2.9,>=2.8->tensorflow<3,>=2.1.0->tensorflowjs) (2022.5.18.1)\n",
            "Requirement already satisfied: chardet<4,>=3.0.2 in /usr/local/lib/python3.7/dist-packages (from requests<3,>=2.21.0->tensorboard<2.9,>=2.8->tensorflow<3,>=2.1.0->tensorflowjs) (3.0.4)\n",
            "Requirement already satisfied: idna<3,>=2.5 in /usr/local/lib/python3.7/dist-packages (from requests<3,>=2.21.0->tensorboard<2.9,>=2.8->tensorflow<3,>=2.1.0->tensorflowjs) (2.10)\n",
            "Requirement already satisfied: urllib3!=1.25.0,!=1.25.1,<1.26,>=1.21.1 in /usr/local/lib/python3.7/dist-packages (from requests<3,>=2.21.0->tensorboard<2.9,>=2.8->tensorflow<3,>=2.1.0->tensorflowjs) (1.24.3)\n",
            "Requirement already satisfied: oauthlib>=3.0.0 in /usr/local/lib/python3.7/dist-packages (from requests-oauthlib>=0.7.0->google-auth-oauthlib<0.5,>=0.4.1->tensorboard<2.9,>=2.8->tensorflow<3,>=2.1.0->tensorflowjs) (3.2.0)\n",
            "Installing collected packages: tf-estimator-nightly, packaging, tensorflowjs\n",
            "  Attempting uninstall: packaging\n",
            "    Found existing installation: packaging 21.3\n",
            "    Uninstalling packaging-21.3:\n",
            "      Successfully uninstalled packaging-21.3\n",
            "\u001b[31mERROR: pip's dependency resolver does not currently take into account all the packages that are installed. This behaviour is the source of the following dependency conflicts.\n",
            "datascience 0.10.6 requires folium==0.2.1, but you have folium 0.8.3 which is incompatible.\u001b[0m\n",
            "Successfully installed packaging-20.9 tensorflowjs-3.18.0 tf-estimator-nightly-2.8.0.dev2021122109\n"
          ]
        },
        {
          "output_type": "display_data",
          "data": {
            "application/vnd.colab-display-data+json": {
              "pip_warning": {
                "packages": [
                  "packaging",
                  "tensorflow_estimator"
                ]
              }
            }
          },
          "metadata": {}
        },
        {
          "output_type": "stream",
          "name": "stdout",
          "text": [
            "Traceback (most recent call last):\n",
            "  File \"/usr/local/bin/tensorflowjs_converter\", line 8, in <module>\n",
            "    sys.exit(pip_main())\n",
            "  File \"/usr/local/lib/python3.7/dist-packages/tensorflowjs/converters/converter.py\", line 813, in pip_main\n",
            "    main([' '.join(sys.argv[1:])])\n",
            "  File \"/usr/local/lib/python3.7/dist-packages/tensorflowjs/converters/converter.py\", line 817, in main\n",
            "    convert(argv[0].split(' '))\n",
            "  File \"/usr/local/lib/python3.7/dist-packages/tensorflowjs/converters/converter.py\", line 804, in convert\n",
            "    weight_shard_size_bytes, metadata_map)\n",
            "  File \"/usr/local/lib/python3.7/dist-packages/tensorflowjs/converters/converter.py\", line 501, in _dispatch_converter\n",
            "    metadata=metadata_map)\n",
            "  File \"/usr/local/lib/python3.7/dist-packages/tensorflowjs/converters/converter.py\", line 76, in dispatch_keras_h5_to_tfjs_layers_model_conversion\n",
            "    raise ValueError('Nonexistent path to HDF5 file: %s' % h5_path)\n",
            "ValueError: Nonexistent path to HDF5 file: ./my_model.h5\n"
          ]
        }
      ]
    },
    {
      "cell_type": "code",
      "source": [
        "model.save('Categorical_Adam.h5')"
      ],
      "metadata": {
        "id": "QJT5sUGkHH4u"
      },
      "execution_count": null,
      "outputs": []
    }
  ],
  "metadata": {
    "colab": {
      "collapsed_sections": [],
      "name": "Categorical-adam_default-Capstone-Project-C22PS22",
      "provenance": []
    },
    "kernelspec": {
      "display_name": "Python 3",
      "name": "python3"
    },
    "language_info": {
      "name": "python"
    }
  },
  "nbformat": 4,
  "nbformat_minor": 0
}